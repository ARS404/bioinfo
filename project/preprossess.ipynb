{
  "cells": [
    {
      "cell_type": "code",
      "execution_count": null,
      "metadata": {
        "colab": {
          "base_uri": "https://localhost:8080/"
        },
        "id": "CR18EX5faVDm",
        "outputId": "e7c26bd0-bd4a-4dc2-a780-5b0a67b82a9a"
      },
      "outputs": [],
      "source": [
        "%%bash\n",
        "wget http://eddylab.org/software/hmmer/hmmer-3.3.2.tar.gz\n",
        "tar xf hmmer-3.3.2.tar.gz\n",
        "cd hmmer-3.3.2"
      ]
    },
    {
      "cell_type": "code",
      "execution_count": null,
      "metadata": {
        "colab": {
          "base_uri": "https://localhost:8080/"
        },
        "id": "O1V4vGhEaWEI",
        "outputId": "1cba6ba0-db79-426b-ba79-cdfe8576af2d"
      },
      "outputs": [],
      "source": [
        "%%bash\n",
        "cd hmmer-3.3.2\n",
        "./configure\n",
        "make\n",
        "make install"
      ]
    },
    {
      "cell_type": "code",
      "execution_count": null,
      "metadata": {
        "colab": {
          "base_uri": "https://localhost:8080/"
        },
        "id": "t1zn4xP1aWfb",
        "outputId": "490a35ef-50e0-43a2-84f2-2d4781868f73"
      },
      "outputs": [],
      "source": [
        "!wget http://ftp.ebi.ac.uk/pub/databases/Pfam/releases/Pfam35.0/Pfam-A.hmm.gz"
      ]
    },
    {
      "cell_type": "code",
      "execution_count": null,
      "metadata": {
        "id": "syOyPvm1aYBX"
      },
      "outputs": [],
      "source": [
        "!gunzip Pfam-A.hmm.gz"
      ]
    },
    {
      "cell_type": "code",
      "execution_count": null,
      "metadata": {
        "colab": {
          "base_uri": "https://localhost:8080/"
        },
        "id": "nrIFnvZgaZ3M",
        "outputId": "ce177059-dd10-4508-a84d-6b0439e5a0a3"
      },
      "outputs": [],
      "source": [
        "!hmmpress Pfam-A.hmm"
      ]
    },
    {
      "cell_type": "code",
      "execution_count": null,
      "metadata": {
        "colab": {
          "base_uri": "https://localhost:8080/"
        },
        "id": "y-PCVh_nabYF",
        "outputId": "c10ffcce-4d82-4fb0-c2bb-25c60aec0598"
      },
      "outputs": [],
      "source": [
        "!hmmfetch --index Pfam-A.hmm.h3m"
      ]
    },
    {
      "cell_type": "code",
      "execution_count": null,
      "metadata": {
        "colab": {
          "base_uri": "https://localhost:8080/"
        },
        "id": "BsoZxqLFajT-",
        "outputId": "b0be8dc1-3c4d-443a-dd28-c8b4dcfe322b"
      },
      "outputs": [],
      "source": [
        "!hmmsearch --domtblout output.domtblout Pfam-A.hmm protein.faa\n"
      ]
    },
    {
      "cell_type": "code",
      "execution_count": null,
      "metadata": {
        "id": "Oeaw-sTKHgoC"
      },
      "outputs": [],
      "source": []
    },
    {
      "cell_type": "code",
      "execution_count": null,
      "metadata": {
        "id": "OWESmB-hcyEO"
      },
      "outputs": [],
      "source": []
    }
  ],
  "metadata": {
    "colab": {
      "provenance": []
    },
    "kernelspec": {
      "display_name": "Python 3",
      "name": "python3"
    },
    "language_info": {
      "name": "python"
    }
  },
  "nbformat": 4,
  "nbformat_minor": 0
}
