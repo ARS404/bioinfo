{
  "nbformat": 4,
  "nbformat_minor": 0,
  "metadata": {
    "colab": {
      "provenance": []
    },
    "kernelspec": {
      "name": "python3",
      "display_name": "Python 3"
    },
    "language_info": {
      "name": "python"
    }
  },
  "cells": [
    {
      "cell_type": "code",
      "execution_count": null,
      "metadata": {
        "colab": {
          "base_uri": "https://localhost:8080/"
        },
        "id": "wDVGYF96JknV",
        "outputId": "15148d37-5f23-4cba-dac2-42e19fc80300"
      },
      "outputs": [
        {
          "output_type": "stream",
          "name": "stdout",
          "text": [
            "\u001b[01m\u001b[Kzhunt3-alan.c:\u001b[m\u001b[K In function ‘\u001b[01m\u001b[Kuser_regret\u001b[m\u001b[K’:\n",
            "\u001b[01m\u001b[Kzhunt3-alan.c:303:7:\u001b[m\u001b[K \u001b[01;35m\u001b[Kwarning: \u001b[m\u001b[Kimplicit declaration of function ‘\u001b[01m\u001b[Kgets\u001b[m\u001b[K’; did you mean ‘\u001b[01m\u001b[Kfgets\u001b[m\u001b[K’? [\u001b[01;35m\u001b[K\u001b]8;;https://gcc.gnu.org/onlinedocs/gcc/Warning-Options.html#index-Wimplicit-function-declaration\u0007-Wimplicit-function-declaration\u001b]8;;\u0007\u001b[m\u001b[K]\n",
            "  303 |       \u001b[01;35m\u001b[Kgets\u001b[m\u001b[K( tempstr );\n",
            "      |       \u001b[01;35m\u001b[K^~~~\u001b[m\u001b[K\n",
            "      |       \u001b[32m\u001b[Kfgets\u001b[m\u001b[K\n",
            "/usr/bin/ld: /tmp/cckuUYaK.o: in function `user_regret':\n",
            "zhunt3-alan.c:(.text+0xbdb): warning: the `gets' function is dangerous and should not be used.\n"
          ]
        }
      ],
      "source": [
        "!gcc zhunt3-alan.c -lm -o zhunt3"
      ]
    },
    {
      "cell_type": "code",
      "source": [
        "!chmod a+x zhunt3"
      ],
      "metadata": {
        "id": "xBsXsj7wJ2cT"
      },
      "execution_count": null,
      "outputs": []
    },
    {
      "cell_type": "code",
      "source": [
        "!ls -lh\n"
      ],
      "metadata": {
        "id": "S3t0Y3tuJ3bD",
        "colab": {
          "base_uri": "https://localhost:8080/"
        },
        "outputId": "40d30e86-bfd2-40e3-a1c8-ec0e48f52e4e"
      },
      "execution_count": null,
      "outputs": [
        {
          "output_type": "stream",
          "name": "stdout",
          "text": [
            "total 5.4M\n",
            "-rw-r--r-- 1 root root 1.3M Jun 12 14:47 'cutted_genome (2).fna'\n",
            "-rw-r--r-- 1 root root 4.0M Jun 12 14:47  cutted_genome.fna\n",
            "drwxr-xr-x 1 root root 4.0K Jun 10 13:38  sample_data\n",
            "-rwxr-xr-x 1 root root  28K Jun 12 14:47  zhunt3\n",
            "-rw-r--r-- 1 root root  22K Jun 12 14:47  zhunt3-alan.c\n"
          ]
        }
      ]
    },
    {
      "cell_type": "code",
      "source": [
        "!./zhunt3 12 8 12 cutted_genome.fna"
      ],
      "metadata": {
        "colab": {
          "base_uri": "https://localhost:8080/"
        },
        "id": "7HoWq_oUMmU3",
        "outputId": "aa50a69a-2471-49a1-8557-6b81ddc83023"
      },
      "execution_count": null,
      "outputs": [
        {
          "output_type": "stream",
          "name": "stdout",
          "text": [
            "dinucleotides 12\n",
            "min/max 8 12\n",
            "min/max 8 12\n",
            "operating on cutted_genome.fna\n",
            "calculating zscore\n",
            "opening cutted_genome.fna\n",
            "inputting sequence\n",
            "opening cutted_genome.fna.Z-SCORE\n",
            "\n",
            " run time=1071 sec\n",
            "use min/max 8 12\n",
            "analyzing_zscore\n",
            "opening cutted_genome.fna.Z-SCORE\n",
            "opening cutted_genome.fna\n",
            "inputting sequence\n"
          ]
        }
      ]
    },
    {
      "cell_type": "code",
      "source": [
        "!ls -lh"
      ],
      "metadata": {
        "colab": {
          "base_uri": "https://localhost:8080/"
        },
        "id": "m0PcUI_hNEhv",
        "outputId": "6a1cf293-f0e5-4a6a-a9ef-0c5dcfec0d2b"
      },
      "execution_count": null,
      "outputs": [
        {
          "output_type": "stream",
          "name": "stdout",
          "text": [
            "total 357M\n",
            "-rw-r--r-- 1 root root 1.3M Jun 12 14:47 'cutted_genome (2).fna'\n",
            "-rw-r--r-- 1 root root 4.0M Jun 12 14:47  cutted_genome.fna\n",
            "-rw-r--r-- 1 root root 352M Jun 12 15:05  cutted_genome.fna.Z-SCORE\n",
            "drwxr-xr-x 1 root root 4.0K Jun 10 13:38  sample_data\n",
            "-rwxr-xr-x 1 root root  28K Jun 12 14:47  zhunt3\n",
            "-rw-r--r-- 1 root root  22K Jun 12 14:47  zhunt3-alan.c\n"
          ]
        }
      ]
    },
    {
      "cell_type": "code",
      "source": [],
      "metadata": {
        "id": "LGRhbyX0gvwq"
      },
      "execution_count": null,
      "outputs": []
    }
  ]
}